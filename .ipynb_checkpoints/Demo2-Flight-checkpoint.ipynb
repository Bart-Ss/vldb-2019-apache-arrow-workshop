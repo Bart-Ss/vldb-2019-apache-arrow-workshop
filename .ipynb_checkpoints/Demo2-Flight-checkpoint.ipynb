{
 "cells": [
  {
   "cell_type": "code",
   "execution_count": 1,
   "metadata": {},
   "outputs": [],
   "source": [
    "import pyarrow as pa\n",
    "import pyarrow.parquet as pq\n",
    "import pyarrow.flight as flight\n",
    "import numpy as np\n",
    "import pandas as pd\n",
    "import time\n",
    "import threading"
   ]
  },
  {
   "cell_type": "code",
   "execution_count": 2,
   "metadata": {},
   "outputs": [],
   "source": [
    "class DemoServer(flight.FlightServerBase):\n",
    "    \n",
    "    def __init__(self):\n",
    "        self._cache = {}\n",
    "    \n",
    "    def list_actions(self, context):\n",
    "        return [flight.ActionType('list-tables', 'List stored tables'),\n",
    "                flight.ActionType('drop-table', 'Drop a stored table')]\n",
    "\n",
    "    # -----------------------------------------------------------------\n",
    "    # Implement actions\n",
    "    \n",
    "    def do_action(self, context, action):\n",
    "        handlers = {\n",
    "            'list-tables': self._list_tables,\n",
    "            'drop-table': self._drop_table\n",
    "        }        \n",
    "        handler = handlers.get(action.type)\n",
    "        if not handler:\n",
    "            raise NotImplementedError   \n",
    "        return handlers[action.type](action)\n",
    "        \n",
    "    def _drop_table(self, action):\n",
    "        del self._cache[action.body]\n",
    "        \n",
    "    def _list_tables(self, action):\n",
    "        return iter([flight.Result(cache_key) \n",
    "                     for cache_key in sorted(self._cache.keys())])\n",
    "\n",
    "    # -----------------------------------------------------------------\n",
    "    # Implement puts\n",
    "    \n",
    "    def do_put(self, context, descriptor, reader, writer):\n",
    "        self._cache[descriptor.command] = reader.read_all()\n",
    "        \n",
    "    # -----------------------------------------------------------------\n",
    "    # Implement gets\n",
    "\n",
    "    def do_get(self, context, ticket):\n",
    "        table = self._cache[ticket.ticket]\n",
    "        return flight.RecordBatchStream(table)"
   ]
  },
  {
   "cell_type": "code",
   "execution_count": 3,
   "metadata": {},
   "outputs": [],
   "source": [
    "import contextlib\n",
    "import socket\n",
    "def find_free_port():\n",
    "    # Find a free port\n",
    "    sock = socket.socket(socket.AF_INET, socket.SOCK_STREAM)\n",
    "    with contextlib.closing(sock) as sock:\n",
    "        sock.bind(('', 0))\n",
    "        sock.setsockopt(socket.SOL_SOCKET, socket.SO_REUSEADDR, 1)\n",
    "        port = sock.getsockname()[1]\n",
    "    return port\n",
    "\n",
    "def wait_for_available(client):\n",
    "    deadline = time.time() + 5.0\n",
    "    while True:\n",
    "        try:\n",
    "            list(client.list_flights())\n",
    "        except Exception as e:\n",
    "            if 'Connect Failed' in str(e):\n",
    "                if time.time() < deadline:\n",
    "                    time.sleep(0.025)\n",
    "                    continue\n",
    "                else:\n",
    "                    raise\n",
    "        break"
   ]
  },
  {
   "cell_type": "code",
   "execution_count": 4,
   "metadata": {},
   "outputs": [
    {
     "data": {
      "text/plain": [
       "<Location b'grpc+tcp://localhost:36245'>"
      ]
     },
     "execution_count": 4,
     "metadata": {},
     "output_type": "execute_result"
    }
   ],
   "source": [
    "port = 1337\n",
    "location = flight.Location.for_grpc_tcp(\"localhost\", find_free_port())\n",
    "location"
   ]
  },
  {
   "cell_type": "code",
   "execution_count": 5,
   "metadata": {},
   "outputs": [],
   "source": [
    "server = DemoServer()\n",
    "server.init(location)\n",
    "\n",
    "thread = threading.Thread(target=lambda: server.run(), daemon=True)\n",
    "thread.start()\n",
    "\n",
    "client = flight.FlightClient.connect(location)\n",
    "wait_for_available(client)"
   ]
  },
  {
   "cell_type": "code",
   "execution_count": 6,
   "metadata": {},
   "outputs": [
    {
     "data": {
      "text/plain": [
       "[ActionType(type='list-tables', description='List stored tables'),\n",
       " ActionType(type='drop-table', description='Drop a stored table')]"
      ]
     },
     "execution_count": 6,
     "metadata": {},
     "output_type": "execute_result"
    }
   ],
   "source": [
    "client.list_actions()"
   ]
  },
  {
   "cell_type": "code",
   "execution_count": 7,
   "metadata": {},
   "outputs": [
    {
     "data": {
      "text/plain": [
       "[]"
      ]
     },
     "execution_count": 7,
     "metadata": {},
     "output_type": "execute_result"
    }
   ],
   "source": [
    "def list_tables(client):\n",
    "    action = flight.Action('list-tables', b'')\n",
    "    return [x.body.to_pybytes().decode('utf8') for x in client.do_action(action)]    \n",
    "\n",
    "# def drop_table(client):\n",
    "\n",
    "list_tables(client)"
   ]
  },
  {
   "cell_type": "code",
   "execution_count": 8,
   "metadata": {},
   "outputs": [],
   "source": [
    "def cache_table_in_server(name, table):\n",
    "    desc = flight.FlightDescriptor.for_command(name.encode('utf8'))\n",
    "    put_writer, put_meta_reader = client.do_put(desc, table.schema)\n",
    "    put_writer.write(table)\n",
    "    put_writer.close()\n",
    "    \n",
    "    \n",
    "def get_table(name):\n",
    "    reader = client.do_get(flight.Ticket(name.encode('utf8')))\n",
    "    return reader.read_all()"
   ]
  },
  {
   "cell_type": "code",
   "execution_count": 9,
   "metadata": {},
   "outputs": [],
   "source": [
    "table = pa.table([pa.array([1,2,3,4,5])], names=['f0'])\n",
    "cache_table_in_server('table1', table)"
   ]
  },
  {
   "cell_type": "code",
   "execution_count": 10,
   "metadata": {},
   "outputs": [
    {
     "data": {
      "text/plain": [
       "['table1']"
      ]
     },
     "execution_count": 10,
     "metadata": {},
     "output_type": "execute_result"
    }
   ],
   "source": [
    "list_tables(client)"
   ]
  },
  {
   "cell_type": "code",
   "execution_count": 11,
   "metadata": {},
   "outputs": [],
   "source": [
    "cache_table_in_server('table2', table)\n",
    "cache_table_in_server('table3', table)\n",
    "cache_table_in_server('table4', table)"
   ]
  },
  {
   "cell_type": "code",
   "execution_count": 12,
   "metadata": {},
   "outputs": [
    {
     "data": {
      "text/plain": [
       "['table1', 'table2', 'table3', 'table4']"
      ]
     },
     "execution_count": 12,
     "metadata": {},
     "output_type": "execute_result"
    }
   ],
   "source": [
    "list_tables(client)"
   ]
  },
  {
   "cell_type": "code",
   "execution_count": 13,
   "metadata": {},
   "outputs": [
    {
     "data": {
      "text/plain": [
       "pyarrow.Table\n",
       "f0: int64"
      ]
     },
     "execution_count": 13,
     "metadata": {},
     "output_type": "execute_result"
    }
   ],
   "source": [
    "get_table('table1')"
   ]
  },
  {
   "cell_type": "code",
   "execution_count": 14,
   "metadata": {},
   "outputs": [],
   "source": [
    "fec_table = pq.read_table('fec-2012.parquet')"
   ]
  },
  {
   "cell_type": "code",
   "execution_count": 15,
   "metadata": {},
   "outputs": [],
   "source": [
    "fec_table = pa.concat_tables([fec_table] * 10)"
   ]
  },
  {
   "cell_type": "code",
   "execution_count": 21,
   "metadata": {},
   "outputs": [
    {
     "name": "stdout",
     "output_type": "stream",
     "text": [
      "CPU times: user 471 ms, sys: 1.67 s, total: 2.14 s\n",
      "Wall time: 1.38 s\n"
     ]
    }
   ],
   "source": [
    "%%time\n",
    "cache_table_in_server('fec_table', fec_table)"
   ]
  },
  {
   "cell_type": "code",
   "execution_count": 22,
   "metadata": {},
   "outputs": [
    {
     "data": {
      "text/plain": [
       "['fec_table', 'table1', 'table2', 'table3', 'table4']"
      ]
     },
     "execution_count": 22,
     "metadata": {},
     "output_type": "execute_result"
    }
   ],
   "source": [
    "list_tables(client)"
   ]
  },
  {
   "cell_type": "code",
   "execution_count": 24,
   "metadata": {},
   "outputs": [
    {
     "name": "stdout",
     "output_type": "stream",
     "text": [
      "CPU times: user 517 ms, sys: 1.69 s, total: 2.21 s\n",
      "Wall time: 1.72 s\n"
     ]
    }
   ],
   "source": [
    "%%time \n",
    "\n",
    "fec_table_received = get_table('fec_table')"
   ]
  },
  {
   "cell_type": "code",
   "execution_count": null,
   "metadata": {},
   "outputs": [],
   "source": []
  }
 ],
 "metadata": {
  "kernelspec": {
   "display_name": "Python 3",
   "language": "python",
   "name": "python3"
  },
  "language_info": {
   "codemirror_mode": {
    "name": "ipython",
    "version": 3
   },
   "file_extension": ".py",
   "mimetype": "text/x-python",
   "name": "python",
   "nbconvert_exporter": "python",
   "pygments_lexer": "ipython3",
   "version": "3.7.3"
  }
 },
 "nbformat": 4,
 "nbformat_minor": 2
}
