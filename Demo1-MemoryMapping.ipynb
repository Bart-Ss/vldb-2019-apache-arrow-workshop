{
 "cells": [
  {
   "cell_type": "code",
   "execution_count": 1,
   "metadata": {},
   "outputs": [],
   "source": [
    "import numpy as np\n",
    "import pyarrow as pa\n",
    "import pyarrow.parquet as pq\n",
    "import pandas as pd"
   ]
  },
  {
   "cell_type": "markdown",
   "metadata": {},
   "source": [
    "Here is a campaign contribution dataset from the 2012 presidential election as a Parquet file"
   ]
  },
  {
   "cell_type": "code",
   "execution_count": 2,
   "metadata": {},
   "outputs": [],
   "source": [
    "fec = pq.read_table('fec-2012.parquet')"
   ]
  },
  {
   "cell_type": "code",
   "execution_count": 3,
   "metadata": {},
   "outputs": [
    {
     "data": {
      "text/plain": [
       "cmte_id: string\n",
       "cand_id: string\n",
       "cand_nm: string\n",
       "contbr_nm: string\n",
       "contbr_city: string\n",
       "contbr_st: string\n",
       "contbr_zip: int64\n",
       "contbr_employer: string\n",
       "contbr_occupation: string\n",
       "contb_receipt_amt: double\n",
       "contb_receipt_dt: string\n",
       "receipt_desc: string\n",
       "memo_cd: string\n",
       "memo_text: string\n",
       "form_tp: string\n",
       "file_num: int64\n",
       "metadata\n",
       "--------\n",
       "{b'pandas': b'{\"index_columns\": [], \"column_indexes\": [], \"columns\": [{\"name\":'\n",
       "            b' \"cmte_id\", \"field_name\": \"cmte_id\", \"pandas_type\": \"unicode\", \"'\n",
       "            b'numpy_type\": \"object\", \"metadata\": null}, {\"name\": \"cand_id\", \"f'\n",
       "            b'ield_name\": \"cand_id\", \"pandas_type\": \"unicode\", \"numpy_type\": \"'\n",
       "            b'object\", \"metadata\": null}, {\"name\": \"cand_nm\", \"field_name\": \"c'\n",
       "            b'and_nm\", \"pandas_type\": \"unicode\", \"numpy_type\": \"object\", \"meta'\n",
       "            b'data\": null}, {\"name\": \"contbr_nm\", \"field_name\": \"contbr_nm\", \"'\n",
       "            b'pandas_type\": \"unicode\", \"numpy_type\": \"object\", \"metadata\": nul'\n",
       "            b'l}, {\"name\": \"contbr_city\", \"field_name\": \"contbr_city\", \"pandas'\n",
       "            b'_type\": \"unicode\", \"numpy_type\": \"object\", \"metadata\": null}, {\"'\n",
       "            b'name\": \"contbr_st\", \"field_name\": \"contbr_st\", \"pandas_type\": \"u'\n",
       "            b'nicode\", \"numpy_type\": \"object\", \"metadata\": null}, {\"name\": \"co'\n",
       "            b'ntbr_zip\", \"field_name\": \"contbr_zip\", \"pandas_type\": \"int64\", \"'\n",
       "            b'numpy_type\": \"int64\", \"metadata\": null}, {\"name\": \"contbr_employ'\n",
       "            b'er\", \"field_name\": \"contbr_employer\", \"pandas_type\": \"unicode\", '\n",
       "            b'\"numpy_type\": \"object\", \"metadata\": null}, {\"name\": \"contbr_occu'\n",
       "            b'pation\", \"field_name\": \"contbr_occupation\", \"pandas_type\": \"unic'\n",
       "            b'ode\", \"numpy_type\": \"object\", \"metadata\": null}, {\"name\": \"contb'\n",
       "            b'_receipt_amt\", \"field_name\": \"contb_receipt_amt\", \"pandas_type\":'\n",
       "            b' \"float64\", \"numpy_type\": \"float64\", \"metadata\": null}, {\"name\":'\n",
       "            b' \"contb_receipt_dt\", \"field_name\": \"contb_receipt_dt\", \"pandas_t'\n",
       "            b'ype\": \"unicode\", \"numpy_type\": \"object\", \"metadata\": null}, {\"na'\n",
       "            b'me\": \"receipt_desc\", \"field_name\": \"receipt_desc\", \"pandas_type\"'\n",
       "            b': \"unicode\", \"numpy_type\": \"object\", \"metadata\": null}, {\"name\":'\n",
       "            b' \"memo_cd\", \"field_name\": \"memo_cd\", \"pandas_type\": \"unicode\", \"'\n",
       "            b'numpy_type\": \"object\", \"metadata\": null}, {\"name\": \"memo_text\", '\n",
       "            b'\"field_name\": \"memo_text\", \"pandas_type\": \"unicode\", \"numpy_type'\n",
       "            b'\": \"object\", \"metadata\": null}, {\"name\": \"form_tp\", \"field_name\"'\n",
       "            b': \"form_tp\", \"pandas_type\": \"unicode\", \"numpy_type\": \"object\", \"'\n",
       "            b'metadata\": null}, {\"name\": \"file_num\", \"field_name\": \"file_num\",'\n",
       "            b' \"pandas_type\": \"int64\", \"numpy_type\": \"int64\", \"metadata\": null'\n",
       "            b'}], \"creator\": {\"library\": \"pyarrow\", \"version\": \"0.14.1.dev423+'\n",
       "            b'g983c62b42.d20190831\"}, \"pandas_version\": \"0.24.2\"}'}"
      ]
     },
     "execution_count": 3,
     "metadata": {},
     "output_type": "execute_result"
    }
   ],
   "source": [
    "fec.schema"
   ]
  },
  {
   "cell_type": "markdown",
   "metadata": {},
   "source": [
    "The extra metadata is a pandas-specific detail (where the file was produced), so ignore that"
   ]
  },
  {
   "cell_type": "code",
   "execution_count": 4,
   "metadata": {},
   "outputs": [
    {
     "data": {
      "text/plain": [
       "180296064"
      ]
     },
     "execution_count": 4,
     "metadata": {},
     "output_type": "execute_result"
    }
   ],
   "source": [
    "pa.total_allocated_bytes()"
   ]
  },
  {
   "cell_type": "markdown",
   "metadata": {},
   "source": [
    "I'm going to write 50 copies of the table end-to-end in a stream so we have a 7+ gigabyte file to work with"
   ]
  },
  {
   "cell_type": "code",
   "execution_count": 5,
   "metadata": {},
   "outputs": [],
   "source": [
    "with open('fec.arrow', 'wb') as f:\n",
    "    writer = pa.ipc.RecordBatchStreamWriter(f, fec.schema)\n",
    "    for i in range(50):\n",
    "        writer.write(fec)\n",
    "    writer.close()"
   ]
  },
  {
   "cell_type": "code",
   "execution_count": 6,
   "metadata": {},
   "outputs": [
    {
     "name": "stdout",
     "output_type": "stream",
     "text": [
      "total 8718892\r\n",
      "-rw-r--r-- 1 wesm wesm       8687 Sep  1 16:22 Demo1-MemoryMapping.ipynb\r\n",
      "-rw-r--r-- 1 wesm wesm       9096 Sep  1 16:22 Demo2-Flight.ipynb\r\n",
      "-rw-r--r-- 1 wesm wesm   26351036 Sep  1 16:22 fec-2012.parquet\r\n",
      "-rw-r--r-- 1 wesm wesm 8901354244 Sep  4 10:32 fec.arrow\r\n",
      "-rw-r--r-- 1 wesm wesm        359 Sep  4 10:31 README.md\r\n",
      "-rw-r--r-- 1 wesm wesm     403260 Sep  4 10:30 slides.pdf\r\n"
     ]
    }
   ],
   "source": [
    "!ls -l"
   ]
  },
  {
   "cell_type": "code",
   "execution_count": 7,
   "metadata": {},
   "outputs": [],
   "source": [
    "mmap = pa.memory_map('fec.arrow')\n",
    "f = pa.ipc.open_stream(mmap)"
   ]
  },
  {
   "cell_type": "markdown",
   "metadata": {},
   "source": [
    "Now we're going to \"parse\" the stream to obtain Arorw data structures referencing the memory map"
   ]
  },
  {
   "cell_type": "code",
   "execution_count": 8,
   "metadata": {},
   "outputs": [
    {
     "name": "stdout",
     "output_type": "stream",
     "text": [
      "CPU times: user 724 ms, sys: 59.4 ms, total: 783 ms\n",
      "Wall time: 782 ms\n"
     ]
    }
   ],
   "source": [
    "%%time\n",
    "t = f.read_all()"
   ]
  },
  {
   "cell_type": "markdown",
   "metadata": {},
   "source": [
    "Note that the read does take a little bit of time (~700ms) because of the 50 table chunks referencing the memory map that have to be reconstructed "
   ]
  },
  {
   "cell_type": "code",
   "execution_count": 9,
   "metadata": {},
   "outputs": [
    {
     "data": {
      "text/plain": [
       "<pyarrow.lib.StringArray object at 0x7fd86f32fdb0>\n",
       "[\n",
       "  \"Bachmann, Michelle\",\n",
       "  \"Romney, Mitt\",\n",
       "  \"Obama, Barack\",\n",
       "  \"Roemer, Charles E. 'Buddy' III\",\n",
       "  \"Pawlenty, Timothy\",\n",
       "  \"Johnson, Gary Earl\",\n",
       "  \"Paul, Ron\",\n",
       "  \"Santorum, Rick\",\n",
       "  \"Cain, Herman\",\n",
       "  \"Gingrich, Newt\",\n",
       "  \"McCotter, Thaddeus G\",\n",
       "  \"Huntsman, Jon\",\n",
       "  \"Perry, Rick\"\n",
       "]"
      ]
     },
     "execution_count": 9,
     "metadata": {},
     "output_type": "execute_result"
    }
   ],
   "source": [
    "t[2].unique()"
   ]
  },
  {
   "cell_type": "markdown",
   "metadata": {},
   "source": [
    "The amount of allocated memory is unchanged because of memory mapping"
   ]
  },
  {
   "cell_type": "code",
   "execution_count": 13,
   "metadata": {},
   "outputs": [
    {
     "data": {
      "text/plain": [
       "180296384"
      ]
     },
     "execution_count": 13,
     "metadata": {},
     "output_type": "execute_result"
    }
   ],
   "source": [
    "pa.total_allocated_bytes()"
   ]
  },
  {
   "cell_type": "code",
   "execution_count": 10,
   "metadata": {},
   "outputs": [
    {
     "data": {
      "text/plain": [
       "'C00431171'"
      ]
     },
     "execution_count": 10,
     "metadata": {},
     "output_type": "execute_result"
    }
   ],
   "source": [
    "t[0].chunk(5)[1000]"
   ]
  },
  {
   "cell_type": "code",
   "execution_count": 11,
   "metadata": {},
   "outputs": [
    {
     "data": {
      "text/plain": [
       "[None,\n",
       " <pyarrow.lib.Buffer at 0x7fd86f352ab0>,\n",
       " <pyarrow.lib.Buffer at 0x7fd86f352570>]"
      ]
     },
     "execution_count": 11,
     "metadata": {},
     "output_type": "execute_result"
    }
   ],
   "source": [
    "t[0].chunk(5).buffers()"
   ]
  },
  {
   "cell_type": "code",
   "execution_count": 12,
   "metadata": {},
   "outputs": [
    {
     "data": {
      "text/plain": [
       "50"
      ]
     },
     "execution_count": 12,
     "metadata": {},
     "output_type": "execute_result"
    }
   ],
   "source": [
    "t[0].num_chunks"
   ]
  },
  {
   "cell_type": "code",
   "execution_count": null,
   "metadata": {},
   "outputs": [],
   "source": []
  }
 ],
 "metadata": {
  "kernelspec": {
   "display_name": "Python 3",
   "language": "python",
   "name": "python3"
  },
  "language_info": {
   "codemirror_mode": {
    "name": "ipython",
    "version": 3
   },
   "file_extension": ".py",
   "mimetype": "text/x-python",
   "name": "python",
   "nbconvert_exporter": "python",
   "pygments_lexer": "ipython3",
   "version": "3.7.3"
  }
 },
 "nbformat": 4,
 "nbformat_minor": 2
}
