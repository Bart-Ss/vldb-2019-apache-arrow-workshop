{
 "cells": [
  {
   "cell_type": "code",
   "execution_count": 14,
   "metadata": {},
   "outputs": [],
   "source": [
    "import numpy as np\n",
    "import pyarrow as pa\n",
    "import pyarrow.parquet as pq\n",
    "import pandas as pd"
   ]
  },
  {
   "cell_type": "markdown",
   "metadata": {},
   "source": [
    "Here is a campaign contribution dataset from the 2012 presidential election as a Parquet file"
   ]
  },
  {
   "cell_type": "code",
   "execution_count": 15,
   "metadata": {},
   "outputs": [],
   "source": [
    "fec = pq.read_table('fec-2012.parquet')"
   ]
  },
  {
   "cell_type": "code",
   "execution_count": 16,
   "metadata": {},
   "outputs": [
    {
     "name": "stdout",
     "output_type": "stream",
     "text": [
      "cmte_id: string\n",
      "cand_id: string\n",
      "cand_nm: string\n",
      "contbr_nm: string\n",
      "contbr_city: string\n",
      "contbr_st: string\n",
      "contbr_zip: string\n",
      "contbr_employer: string\n",
      "contbr_occupation: string\n",
      "contb_receipt_amt: double\n",
      "contb_receipt_dt: string\n",
      "receipt_desc: string\n",
      "memo_cd: string\n",
      "memo_text: string\n",
      "form_tp: string\n",
      "file_num: int64\n",
      "-- schema metadata --\n",
      "pandas: '{\"index_columns\": [{\"kind\": \"range\", \"name\": null, \"start\": 0, \"' + 2218\n"
     ]
    }
   ],
   "source": [
    "print(fec.schema.to_string(show_field_metadata=False))"
   ]
  },
  {
   "cell_type": "markdown",
   "metadata": {},
   "source": [
    "The extra metadata is a pandas-specific detail (where the file was produced), so ignore that"
   ]
  },
  {
   "cell_type": "code",
   "execution_count": 17,
   "metadata": {},
   "outputs": [
    {
     "data": {
      "text/plain": [
       "364795968"
      ]
     },
     "execution_count": 17,
     "metadata": {},
     "output_type": "execute_result"
    }
   ],
   "source": [
    "pa.total_allocated_bytes()"
   ]
  },
  {
   "cell_type": "markdown",
   "metadata": {},
   "source": [
    "I'm going to write 50 copies of the table end-to-end in a stream so we have a 7+ gigabyte file to work with"
   ]
  },
  {
   "cell_type": "code",
   "execution_count": 18,
   "metadata": {},
   "outputs": [],
   "source": [
    "with open('fec.arrow', 'wb') as f:\n",
    "    writer = pa.ipc.RecordBatchStreamWriter(f, fec.schema)\n",
    "    for i in range(50):\n",
    "        writer.write(fec)\n",
    "    writer.close()"
   ]
  },
  {
   "cell_type": "code",
   "execution_count": 19,
   "metadata": {},
   "outputs": [
    {
     "name": "stdout",
     "output_type": "stream",
     "text": [
      "total 8921544\r\n",
      "-rw------- 1 wesm wesm       3921 Apr  3 11:11 Demo1-MemoryMapping.ipynb\r\n",
      "-rw------- 1 wesm wesm       9148 Apr  3 11:10 Demo2-Flight.ipynb\r\n",
      "-rw------- 1 wesm wesm   27867532 Feb 26 13:40 fec-2012.parquet\r\n",
      "-rw------- 1 wesm wesm 9107358528 Apr  3 11:32 fec.arrow\r\n",
      "-rw------- 1 wesm wesm        600 Feb 26 13:31 README.md\r\n",
      "-rw------- 1 wesm wesm     403260 Feb 26 13:31 slides.pdf\r\n"
     ]
    }
   ],
   "source": [
    "!ls -l"
   ]
  },
  {
   "cell_type": "code",
   "execution_count": 20,
   "metadata": {},
   "outputs": [],
   "source": [
    "mmap = pa.memory_map('fec.arrow')\n",
    "f = pa.ipc.open_stream(mmap)"
   ]
  },
  {
   "cell_type": "markdown",
   "metadata": {},
   "source": [
    "Now we're going to \"parse\" the stream to obtain Arorw data structures referencing the memory map"
   ]
  },
  {
   "cell_type": "code",
   "execution_count": 21,
   "metadata": {},
   "outputs": [
    {
     "name": "stdout",
     "output_type": "stream",
     "text": [
      "CPU times: user 3.79 ms, sys: 0 ns, total: 3.79 ms\n",
      "Wall time: 3.05 ms\n"
     ]
    }
   ],
   "source": [
    "%%time\n",
    "t = f.read_all()"
   ]
  },
  {
   "cell_type": "code",
   "execution_count": 22,
   "metadata": {},
   "outputs": [
    {
     "data": {
      "text/plain": [
       "50086550"
      ]
     },
     "execution_count": 22,
     "metadata": {},
     "output_type": "execute_result"
    }
   ],
   "source": [
    "len(t)"
   ]
  },
  {
   "cell_type": "code",
   "execution_count": 23,
   "metadata": {},
   "outputs": [
    {
     "data": {
      "text/plain": [
       "364795968"
      ]
     },
     "execution_count": 23,
     "metadata": {},
     "output_type": "execute_result"
    }
   ],
   "source": [
    "pa.total_allocated_bytes()"
   ]
  },
  {
   "cell_type": "markdown",
   "metadata": {},
   "source": [
    "Note that the read does take a little bit of time (~700ms) because of the 50 table chunks referencing the memory map that have to be reconstructed "
   ]
  },
  {
   "cell_type": "code",
   "execution_count": 24,
   "metadata": {},
   "outputs": [
    {
     "data": {
      "text/plain": [
       "<pyarrow.lib.ChunkedArray object at 0x7f388c1d45f0>\n",
       "[\n",
       "  [\n",
       "    \"Bachmann, Michelle\",\n",
       "    \"Bachmann, Michelle\",\n",
       "    \"Bachmann, Michelle\",\n",
       "    \"Bachmann, Michelle\",\n",
       "    \"Bachmann, Michelle\",\n",
       "    \"Bachmann, Michelle\",\n",
       "    \"Bachmann, Michelle\",\n",
       "    \"Bachmann, Michelle\",\n",
       "    \"Bachmann, Michelle\",\n",
       "    \"Bachmann, Michelle\",\n",
       "    ...\n",
       "    \"Perry, Rick\",\n",
       "    \"Perry, Rick\",\n",
       "    \"Perry, Rick\",\n",
       "    \"Perry, Rick\",\n",
       "    \"Perry, Rick\",\n",
       "    \"Perry, Rick\",\n",
       "    \"Perry, Rick\",\n",
       "    \"Perry, Rick\",\n",
       "    \"Perry, Rick\",\n",
       "    \"Perry, Rick\"\n",
       "  ],\n",
       "  [\n",
       "    \"Bachmann, Michelle\",\n",
       "    \"Bachmann, Michelle\",\n",
       "    \"Bachmann, Michelle\",\n",
       "    \"Bachmann, Michelle\",\n",
       "    \"Bachmann, Michelle\",\n",
       "    \"Bachmann, Michelle\",\n",
       "    \"Bachmann, Michelle\",\n",
       "    \"Bachmann, Michelle\",\n",
       "    \"Bachmann, Michelle\",\n",
       "    \"Bachmann, Michelle\",\n",
       "    ...\n",
       "    \"Perry, Rick\",\n",
       "    \"Perry, Rick\",\n",
       "    \"Perry, Rick\",\n",
       "    \"Perry, Rick\",\n",
       "    \"Perry, Rick\",\n",
       "    \"Perry, Rick\",\n",
       "    \"Perry, Rick\",\n",
       "    \"Perry, Rick\",\n",
       "    \"Perry, Rick\",\n",
       "    \"Perry, Rick\"\n",
       "  ],\n",
       "  [\n",
       "    \"Bachmann, Michelle\",\n",
       "    \"Bachmann, Michelle\",\n",
       "    \"Bachmann, Michelle\",\n",
       "    \"Bachmann, Michelle\",\n",
       "    \"Bachmann, Michelle\",\n",
       "    \"Bachmann, Michelle\",\n",
       "    \"Bachmann, Michelle\",\n",
       "    \"Bachmann, Michelle\",\n",
       "    \"Bachmann, Michelle\",\n",
       "    \"Bachmann, Michelle\",\n",
       "    ...\n",
       "    \"Perry, Rick\",\n",
       "    \"Perry, Rick\",\n",
       "    \"Perry, Rick\",\n",
       "    \"Perry, Rick\",\n",
       "    \"Perry, Rick\",\n",
       "    \"Perry, Rick\",\n",
       "    \"Perry, Rick\",\n",
       "    \"Perry, Rick\",\n",
       "    \"Perry, Rick\",\n",
       "    \"Perry, Rick\"\n",
       "  ],\n",
       "  [\n",
       "    \"Bachmann, Michelle\",\n",
       "    \"Bachmann, Michelle\",\n",
       "    \"Bachmann, Michelle\",\n",
       "    \"Bachmann, Michelle\",\n",
       "    \"Bachmann, Michelle\",\n",
       "    \"Bachmann, Michelle\",\n",
       "    \"Bachmann, Michelle\",\n",
       "    \"Bachmann, Michelle\",\n",
       "    \"Bachmann, Michelle\",\n",
       "    \"Bachmann, Michelle\",\n",
       "    ...\n",
       "    \"Perry, Rick\",\n",
       "    \"Perry, Rick\",\n",
       "    \"Perry, Rick\",\n",
       "    \"Perry, Rick\",\n",
       "    \"Perry, Rick\",\n",
       "    \"Perry, Rick\",\n",
       "    \"Perry, Rick\",\n",
       "    \"Perry, Rick\",\n",
       "    \"Perry, Rick\",\n",
       "    \"Perry, Rick\"\n",
       "  ],\n",
       "  [\n",
       "    \"Bachmann, Michelle\",\n",
       "    \"Bachmann, Michelle\",\n",
       "    \"Bachmann, Michelle\",\n",
       "    \"Bachmann, Michelle\",\n",
       "    \"Bachmann, Michelle\",\n",
       "    \"Bachmann, Michelle\",\n",
       "    \"Bachmann, Michelle\",\n",
       "    \"Bachmann, Michelle\",\n",
       "    \"Bachmann, Michelle\",\n",
       "    \"Bachmann, Michelle\",\n",
       "    ...\n",
       "    \"Perry, Rick\",\n",
       "    \"Perry, Rick\",\n",
       "    \"Perry, Rick\",\n",
       "    \"Perry, Rick\",\n",
       "    \"Perry, Rick\",\n",
       "    \"Perry, Rick\",\n",
       "    \"Perry, Rick\",\n",
       "    \"Perry, Rick\",\n",
       "    \"Perry, Rick\",\n",
       "    \"Perry, Rick\"\n",
       "  ],\n",
       "  [\n",
       "    \"Bachmann, Michelle\",\n",
       "    \"Bachmann, Michelle\",\n",
       "    \"Bachmann, Michelle\",\n",
       "    \"Bachmann, Michelle\",\n",
       "    \"Bachmann, Michelle\",\n",
       "    \"Bachmann, Michelle\",\n",
       "    \"Bachmann, Michelle\",\n",
       "    \"Bachmann, Michelle\",\n",
       "    \"Bachmann, Michelle\",\n",
       "    \"Bachmann, Michelle\",\n",
       "    ...\n",
       "    \"Perry, Rick\",\n",
       "    \"Perry, Rick\",\n",
       "    \"Perry, Rick\",\n",
       "    \"Perry, Rick\",\n",
       "    \"Perry, Rick\",\n",
       "    \"Perry, Rick\",\n",
       "    \"Perry, Rick\",\n",
       "    \"Perry, Rick\",\n",
       "    \"Perry, Rick\",\n",
       "    \"Perry, Rick\"\n",
       "  ],\n",
       "  [\n",
       "    \"Bachmann, Michelle\",\n",
       "    \"Bachmann, Michelle\",\n",
       "    \"Bachmann, Michelle\",\n",
       "    \"Bachmann, Michelle\",\n",
       "    \"Bachmann, Michelle\",\n",
       "    \"Bachmann, Michelle\",\n",
       "    \"Bachmann, Michelle\",\n",
       "    \"Bachmann, Michelle\",\n",
       "    \"Bachmann, Michelle\",\n",
       "    \"Bachmann, Michelle\",\n",
       "    ...\n",
       "    \"Perry, Rick\",\n",
       "    \"Perry, Rick\",\n",
       "    \"Perry, Rick\",\n",
       "    \"Perry, Rick\",\n",
       "    \"Perry, Rick\",\n",
       "    \"Perry, Rick\",\n",
       "    \"Perry, Rick\",\n",
       "    \"Perry, Rick\",\n",
       "    \"Perry, Rick\",\n",
       "    \"Perry, Rick\"\n",
       "  ],\n",
       "  [\n",
       "    \"Bachmann, Michelle\",\n",
       "    \"Bachmann, Michelle\",\n",
       "    \"Bachmann, Michelle\",\n",
       "    \"Bachmann, Michelle\",\n",
       "    \"Bachmann, Michelle\",\n",
       "    \"Bachmann, Michelle\",\n",
       "    \"Bachmann, Michelle\",\n",
       "    \"Bachmann, Michelle\",\n",
       "    \"Bachmann, Michelle\",\n",
       "    \"Bachmann, Michelle\",\n",
       "    ...\n",
       "    \"Perry, Rick\",\n",
       "    \"Perry, Rick\",\n",
       "    \"Perry, Rick\",\n",
       "    \"Perry, Rick\",\n",
       "    \"Perry, Rick\",\n",
       "    \"Perry, Rick\",\n",
       "    \"Perry, Rick\",\n",
       "    \"Perry, Rick\",\n",
       "    \"Perry, Rick\",\n",
       "    \"Perry, Rick\"\n",
       "  ],\n",
       "  [\n",
       "    \"Bachmann, Michelle\",\n",
       "    \"Bachmann, Michelle\",\n",
       "    \"Bachmann, Michelle\",\n",
       "    \"Bachmann, Michelle\",\n",
       "    \"Bachmann, Michelle\",\n",
       "    \"Bachmann, Michelle\",\n",
       "    \"Bachmann, Michelle\",\n",
       "    \"Bachmann, Michelle\",\n",
       "    \"Bachmann, Michelle\",\n",
       "    \"Bachmann, Michelle\",\n",
       "    ...\n",
       "    \"Perry, Rick\",\n",
       "    \"Perry, Rick\",\n",
       "    \"Perry, Rick\",\n",
       "    \"Perry, Rick\",\n",
       "    \"Perry, Rick\",\n",
       "    \"Perry, Rick\",\n",
       "    \"Perry, Rick\",\n",
       "    \"Perry, Rick\",\n",
       "    \"Perry, Rick\",\n",
       "    \"Perry, Rick\"\n",
       "  ],\n",
       "  [\n",
       "    \"Bachmann, Michelle\",\n",
       "    \"Bachmann, Michelle\",\n",
       "    \"Bachmann, Michelle\",\n",
       "    \"Bachmann, Michelle\",\n",
       "    \"Bachmann, Michelle\",\n",
       "    \"Bachmann, Michelle\",\n",
       "    \"Bachmann, Michelle\",\n",
       "    \"Bachmann, Michelle\",\n",
       "    \"Bachmann, Michelle\",\n",
       "    \"Bachmann, Michelle\",\n",
       "    ...\n",
       "    \"Perry, Rick\",\n",
       "    \"Perry, Rick\",\n",
       "    \"Perry, Rick\",\n",
       "    \"Perry, Rick\",\n",
       "    \"Perry, Rick\",\n",
       "    \"Perry, Rick\",\n",
       "    \"Perry, Rick\",\n",
       "    \"Perry, Rick\",\n",
       "    \"Perry, Rick\",\n",
       "    \"Perry, Rick\"\n",
       "  ],\n",
       "...\n",
       "  [\n",
       "    \"Bachmann, Michelle\",\n",
       "    \"Bachmann, Michelle\",\n",
       "    \"Bachmann, Michelle\",\n",
       "    \"Bachmann, Michelle\",\n",
       "    \"Bachmann, Michelle\",\n",
       "    \"Bachmann, Michelle\",\n",
       "    \"Bachmann, Michelle\",\n",
       "    \"Bachmann, Michelle\",\n",
       "    \"Bachmann, Michelle\",\n",
       "    \"Bachmann, Michelle\",\n",
       "    ...\n",
       "    \"Perry, Rick\",\n",
       "    \"Perry, Rick\",\n",
       "    \"Perry, Rick\",\n",
       "    \"Perry, Rick\",\n",
       "    \"Perry, Rick\",\n",
       "    \"Perry, Rick\",\n",
       "    \"Perry, Rick\",\n",
       "    \"Perry, Rick\",\n",
       "    \"Perry, Rick\",\n",
       "    \"Perry, Rick\"\n",
       "  ],\n",
       "  [\n",
       "    \"Bachmann, Michelle\",\n",
       "    \"Bachmann, Michelle\",\n",
       "    \"Bachmann, Michelle\",\n",
       "    \"Bachmann, Michelle\",\n",
       "    \"Bachmann, Michelle\",\n",
       "    \"Bachmann, Michelle\",\n",
       "    \"Bachmann, Michelle\",\n",
       "    \"Bachmann, Michelle\",\n",
       "    \"Bachmann, Michelle\",\n",
       "    \"Bachmann, Michelle\",\n",
       "    ...\n",
       "    \"Perry, Rick\",\n",
       "    \"Perry, Rick\",\n",
       "    \"Perry, Rick\",\n",
       "    \"Perry, Rick\",\n",
       "    \"Perry, Rick\",\n",
       "    \"Perry, Rick\",\n",
       "    \"Perry, Rick\",\n",
       "    \"Perry, Rick\",\n",
       "    \"Perry, Rick\",\n",
       "    \"Perry, Rick\"\n",
       "  ],\n",
       "  [\n",
       "    \"Bachmann, Michelle\",\n",
       "    \"Bachmann, Michelle\",\n",
       "    \"Bachmann, Michelle\",\n",
       "    \"Bachmann, Michelle\",\n",
       "    \"Bachmann, Michelle\",\n",
       "    \"Bachmann, Michelle\",\n",
       "    \"Bachmann, Michelle\",\n",
       "    \"Bachmann, Michelle\",\n",
       "    \"Bachmann, Michelle\",\n",
       "    \"Bachmann, Michelle\",\n",
       "    ...\n",
       "    \"Perry, Rick\",\n",
       "    \"Perry, Rick\",\n",
       "    \"Perry, Rick\",\n",
       "    \"Perry, Rick\",\n",
       "    \"Perry, Rick\",\n",
       "    \"Perry, Rick\",\n",
       "    \"Perry, Rick\",\n",
       "    \"Perry, Rick\",\n",
       "    \"Perry, Rick\",\n",
       "    \"Perry, Rick\"\n",
       "  ],\n",
       "  [\n",
       "    \"Bachmann, Michelle\",\n",
       "    \"Bachmann, Michelle\",\n",
       "    \"Bachmann, Michelle\",\n",
       "    \"Bachmann, Michelle\",\n",
       "    \"Bachmann, Michelle\",\n",
       "    \"Bachmann, Michelle\",\n",
       "    \"Bachmann, Michelle\",\n",
       "    \"Bachmann, Michelle\",\n",
       "    \"Bachmann, Michelle\",\n",
       "    \"Bachmann, Michelle\",\n",
       "    ...\n",
       "    \"Perry, Rick\",\n",
       "    \"Perry, Rick\",\n",
       "    \"Perry, Rick\",\n",
       "    \"Perry, Rick\",\n",
       "    \"Perry, Rick\",\n",
       "    \"Perry, Rick\",\n",
       "    \"Perry, Rick\",\n",
       "    \"Perry, Rick\",\n",
       "    \"Perry, Rick\",\n",
       "    \"Perry, Rick\"\n",
       "  ],\n",
       "  [\n",
       "    \"Bachmann, Michelle\",\n",
       "    \"Bachmann, Michelle\",\n",
       "    \"Bachmann, Michelle\",\n",
       "    \"Bachmann, Michelle\",\n",
       "    \"Bachmann, Michelle\",\n",
       "    \"Bachmann, Michelle\",\n",
       "    \"Bachmann, Michelle\",\n",
       "    \"Bachmann, Michelle\",\n",
       "    \"Bachmann, Michelle\",\n",
       "    \"Bachmann, Michelle\",\n",
       "    ...\n",
       "    \"Perry, Rick\",\n",
       "    \"Perry, Rick\",\n",
       "    \"Perry, Rick\",\n",
       "    \"Perry, Rick\",\n",
       "    \"Perry, Rick\",\n",
       "    \"Perry, Rick\",\n",
       "    \"Perry, Rick\",\n",
       "    \"Perry, Rick\",\n",
       "    \"Perry, Rick\",\n",
       "    \"Perry, Rick\"\n",
       "  ],\n",
       "  [\n",
       "    \"Bachmann, Michelle\",\n",
       "    \"Bachmann, Michelle\",\n",
       "    \"Bachmann, Michelle\",\n",
       "    \"Bachmann, Michelle\",\n",
       "    \"Bachmann, Michelle\",\n",
       "    \"Bachmann, Michelle\",\n",
       "    \"Bachmann, Michelle\",\n",
       "    \"Bachmann, Michelle\",\n",
       "    \"Bachmann, Michelle\",\n",
       "    \"Bachmann, Michelle\",\n",
       "    ...\n",
       "    \"Perry, Rick\",\n",
       "    \"Perry, Rick\",\n",
       "    \"Perry, Rick\",\n",
       "    \"Perry, Rick\",\n",
       "    \"Perry, Rick\",\n",
       "    \"Perry, Rick\",\n",
       "    \"Perry, Rick\",\n",
       "    \"Perry, Rick\",\n",
       "    \"Perry, Rick\",\n",
       "    \"Perry, Rick\"\n",
       "  ],\n",
       "  [\n",
       "    \"Bachmann, Michelle\",\n",
       "    \"Bachmann, Michelle\",\n",
       "    \"Bachmann, Michelle\",\n",
       "    \"Bachmann, Michelle\",\n",
       "    \"Bachmann, Michelle\",\n",
       "    \"Bachmann, Michelle\",\n",
       "    \"Bachmann, Michelle\",\n",
       "    \"Bachmann, Michelle\",\n",
       "    \"Bachmann, Michelle\",\n",
       "    \"Bachmann, Michelle\",\n",
       "    ...\n",
       "    \"Perry, Rick\",\n",
       "    \"Perry, Rick\",\n",
       "    \"Perry, Rick\",\n",
       "    \"Perry, Rick\",\n",
       "    \"Perry, Rick\",\n",
       "    \"Perry, Rick\",\n",
       "    \"Perry, Rick\",\n",
       "    \"Perry, Rick\",\n",
       "    \"Perry, Rick\",\n",
       "    \"Perry, Rick\"\n",
       "  ],\n",
       "  [\n",
       "    \"Bachmann, Michelle\",\n",
       "    \"Bachmann, Michelle\",\n",
       "    \"Bachmann, Michelle\",\n",
       "    \"Bachmann, Michelle\",\n",
       "    \"Bachmann, Michelle\",\n",
       "    \"Bachmann, Michelle\",\n",
       "    \"Bachmann, Michelle\",\n",
       "    \"Bachmann, Michelle\",\n",
       "    \"Bachmann, Michelle\",\n",
       "    \"Bachmann, Michelle\",\n",
       "    ...\n",
       "    \"Perry, Rick\",\n",
       "    \"Perry, Rick\",\n",
       "    \"Perry, Rick\",\n",
       "    \"Perry, Rick\",\n",
       "    \"Perry, Rick\",\n",
       "    \"Perry, Rick\",\n",
       "    \"Perry, Rick\",\n",
       "    \"Perry, Rick\",\n",
       "    \"Perry, Rick\",\n",
       "    \"Perry, Rick\"\n",
       "  ],\n",
       "  [\n",
       "    \"Bachmann, Michelle\",\n",
       "    \"Bachmann, Michelle\",\n",
       "    \"Bachmann, Michelle\",\n",
       "    \"Bachmann, Michelle\",\n",
       "    \"Bachmann, Michelle\",\n",
       "    \"Bachmann, Michelle\",\n",
       "    \"Bachmann, Michelle\",\n",
       "    \"Bachmann, Michelle\",\n",
       "    \"Bachmann, Michelle\",\n",
       "    \"Bachmann, Michelle\",\n",
       "    ...\n",
       "    \"Perry, Rick\",\n",
       "    \"Perry, Rick\",\n",
       "    \"Perry, Rick\",\n",
       "    \"Perry, Rick\",\n",
       "    \"Perry, Rick\",\n",
       "    \"Perry, Rick\",\n",
       "    \"Perry, Rick\",\n",
       "    \"Perry, Rick\",\n",
       "    \"Perry, Rick\",\n",
       "    \"Perry, Rick\"\n",
       "  ],\n",
       "  [\n",
       "    \"Bachmann, Michelle\",\n",
       "    \"Bachmann, Michelle\",\n",
       "    \"Bachmann, Michelle\",\n",
       "    \"Bachmann, Michelle\",\n",
       "    \"Bachmann, Michelle\",\n",
       "    \"Bachmann, Michelle\",\n",
       "    \"Bachmann, Michelle\",\n",
       "    \"Bachmann, Michelle\",\n",
       "    \"Bachmann, Michelle\",\n",
       "    \"Bachmann, Michelle\",\n",
       "    ...\n",
       "    \"Perry, Rick\",\n",
       "    \"Perry, Rick\",\n",
       "    \"Perry, Rick\",\n",
       "    \"Perry, Rick\",\n",
       "    \"Perry, Rick\",\n",
       "    \"Perry, Rick\",\n",
       "    \"Perry, Rick\",\n",
       "    \"Perry, Rick\",\n",
       "    \"Perry, Rick\",\n",
       "    \"Perry, Rick\"\n",
       "  ]\n",
       "]"
      ]
     },
     "execution_count": 24,
     "metadata": {},
     "output_type": "execute_result"
    }
   ],
   "source": [
    "t[2]"
   ]
  },
  {
   "cell_type": "code",
   "execution_count": 25,
   "metadata": {},
   "outputs": [
    {
     "data": {
      "text/plain": [
       "<pyarrow.lib.StringArray object at 0x7f388bf43c90>\n",
       "[\n",
       "  \"Bachmann, Michelle\",\n",
       "  \"Romney, Mitt\",\n",
       "  \"Obama, Barack\",\n",
       "  \"Roemer, Charles E. 'Buddy' III\",\n",
       "  \"Pawlenty, Timothy\",\n",
       "  \"Johnson, Gary Earl\",\n",
       "  \"Paul, Ron\",\n",
       "  \"Santorum, Rick\",\n",
       "  \"Cain, Herman\",\n",
       "  \"Gingrich, Newt\",\n",
       "  \"McCotter, Thaddeus G\",\n",
       "  \"Huntsman, Jon\",\n",
       "  \"Perry, Rick\"\n",
       "]"
      ]
     },
     "execution_count": 25,
     "metadata": {},
     "output_type": "execute_result"
    }
   ],
   "source": [
    "t[2].unique()"
   ]
  },
  {
   "cell_type": "markdown",
   "metadata": {},
   "source": [
    "The amount of allocated memory is unchanged because of memory mapping"
   ]
  },
  {
   "cell_type": "code",
   "execution_count": null,
   "metadata": {},
   "outputs": [],
   "source": [
    "pa.total_allocated_bytes()"
   ]
  },
  {
   "cell_type": "code",
   "execution_count": null,
   "metadata": {},
   "outputs": [],
   "source": [
    "t[0].chunk(5)[1000]"
   ]
  },
  {
   "cell_type": "code",
   "execution_count": null,
   "metadata": {},
   "outputs": [],
   "source": [
    "t[0].chunk(5).buffers()"
   ]
  },
  {
   "cell_type": "code",
   "execution_count": null,
   "metadata": {},
   "outputs": [],
   "source": [
    "t[0].num_chunks"
   ]
  },
  {
   "cell_type": "code",
   "execution_count": null,
   "metadata": {},
   "outputs": [],
   "source": []
  }
 ],
 "metadata": {
  "kernelspec": {
   "display_name": "Python 3",
   "language": "python",
   "name": "python3"
  },
  "language_info": {
   "codemirror_mode": {
    "name": "ipython",
    "version": 3
   },
   "file_extension": ".py",
   "mimetype": "text/x-python",
   "name": "python",
   "nbconvert_exporter": "python",
   "pygments_lexer": "ipython3",
   "version": "3.7.6"
  }
 },
 "nbformat": 4,
 "nbformat_minor": 2
}
